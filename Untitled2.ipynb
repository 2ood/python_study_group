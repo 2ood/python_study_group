{
  "nbformat": 4,
  "nbformat_minor": 0,
  "metadata": {
    "colab": {
      "provenance": []
    },
    "kernelspec": {
      "name": "python3",
      "display_name": "Python 3"
    },
    "language_info": {
      "name": "python"
    }
  },
  "cells": [
    {
      "cell_type": "code",
      "execution_count": 1,
      "metadata": {
        "colab": {
          "base_uri": "https://localhost:8080/"
        },
        "id": "7X_P9hrhF0S2",
        "outputId": "0a14318b-6dfe-4590-bfaa-9dc85bdd0a68"
      },
      "outputs": [
        {
          "output_type": "stream",
          "name": "stdout",
          "text": [
            "hello world\n"
          ]
        }
      ],
      "source": [
        "print(\"hello world\")"
      ]
    },
    {
      "cell_type": "code",
      "source": [],
      "metadata": {
        "id": "IWfDUzbPF4Yg"
      },
      "execution_count": null,
      "outputs": []
    },
    {
      "cell_type": "markdown",
      "source": [
        "설명\n",
        "\n",
        "\n",
        "\n",
        "\n",
        "ㅁㄴㅇㄹ"
      ],
      "metadata": {
        "id": "23-rn9apF6U9"
      }
    },
    {
      "cell_type": "code",
      "source": [
        "print(str(1+1))"
      ],
      "metadata": {
        "colab": {
          "base_uri": "https://localhost:8080/"
        },
        "id": "GC8IDAVlF8co",
        "outputId": "88232dab-3b28-44ec-a36d-1a3d4937b84b"
      },
      "execution_count": 2,
      "outputs": [
        {
          "output_type": "stream",
          "name": "stdout",
          "text": [
            "2\n"
          ]
        }
      ]
    },
    {
      "cell_type": "code",
      "source": [],
      "metadata": {
        "id": "0QwTgKBlGAi6"
      },
      "execution_count": null,
      "outputs": []
    }
  ]
}